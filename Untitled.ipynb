{
 "cells": [
  {
   "cell_type": "code",
   "execution_count": 1,
   "metadata": {
    "collapsed": false
   },
   "outputs": [
    {
     "name": "stdout",
     "output_type": "stream",
     "text": [
      "Tables\n",
      "                 name\n",
      "0     classreason_doc\n",
      "1        classreasons\n",
      "2                docs\n",
      "3    recipient_doc_cc\n",
      "4  recipient_doc_from\n",
      "5    recipient_doc_to\n",
      "6          recipients\n",
      "Column Names\n",
      "['date', 'posted_date', 'pdf_link', 'doc_class', 'message_num', 'case_num', 'declass_date', 'classification', 'reason', 'author', 'id', 'subject', 'body', 'full_path', 'is_document', 'doc_date', 'pdf_url']\n",
      "Number of Rows: 40737\n"
     ]
    }
   ],
   "source": [
    "import pandas as pd\n",
    "import sqlite3\n",
    "\n",
    "#Set up connection to the SQLite database\n",
    "connection = sqlite3.connect('clinton.sqlite')\n",
    "\n",
    "#Print all tables\n",
    "print(\"Tables\")\n",
    "all_tables = pd.read_sql(\"SELECT name FROM sqlite_master WHERE type = 'table'\", connection)\n",
    "print(all_tables)\n",
    "\n",
    "#Print information about 'docs' table\n",
    "docs = pd.read_sql(\"SELECT * FROM %s\" % (\"docs\"), connection)\n",
    "print(\"Column Names\")\n",
    "print(list(docs.columns.values))\n",
    "print(\"Number of Rows: %d\" % len(docs))\n",
    "\n",
    "#Clean up connection to the database\n",
    "connection.close()"
   ]
  },
  {
   "cell_type": "code",
   "execution_count": 6,
   "metadata": {
    "collapsed": false
   },
   "outputs": [],
   "source": [
    "for i in range(len(docs)):\n",
    "    if '' in docs.body.iloc[i]:\n",
    "        print (docs.body.iloc[i])\n"
   ]
  },
  {
   "cell_type": "code",
   "execution_count": null,
   "metadata": {
    "collapsed": true
   },
   "outputs": [],
   "source": []
  }
 ],
 "metadata": {
  "kernelspec": {
   "display_name": "Python 2",
   "language": "python",
   "name": "python2"
  },
  "language_info": {
   "codemirror_mode": {
    "name": "ipython",
    "version": 2
   },
   "file_extension": ".py",
   "mimetype": "text/x-python",
   "name": "python",
   "nbconvert_exporter": "python",
   "pygments_lexer": "ipython2",
   "version": "2.7.10"
  }
 },
 "nbformat": 4,
 "nbformat_minor": 0
}
